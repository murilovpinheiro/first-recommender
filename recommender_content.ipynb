{
 "cells": [
  {
   "cell_type": "markdown",
   "metadata": {},
   "source": [
    "### Second Practice Activity of a Recommendation System\n",
    "\n",
    "In the first notebook, I briefly explained recommendation systems and how to divide them. Furthermore, I implemented two initial collaborative methods, an item-based movie recommendation, and a user-based movie recommendation; these are simply methods using similarity metrics to recommend new movies."
   ]
  },
  {
   "cell_type": "markdown",
   "metadata": {},
   "source": [
    "Here, I want to implement a Content recommendation system, using the same movie dataset. Content Approachs uses informations about the item/user to select similar ones and recommend. This dataset was prepared in the another Python Notebook using movie_informations."
   ]
  },
  {
   "cell_type": "code",
   "execution_count": 12,
   "metadata": {
    "ExecuteTime": {
     "end_time": "2023-12-02T01:51:16.420512500Z",
     "start_time": "2023-12-02T01:51:16.182013Z"
    }
   },
   "outputs": [],
   "source": [
    "import numpy as np\n",
    "import pandas as pd\n",
    "from scipy.sparse import csr_matrix, csc_matrix\n",
    "from sklearn.feature_extraction.text import CountVectorizer\n",
    "from sklearn.metrics.pairwise import linear_kernel, cosine_similarity"
   ]
  },
  {
   "cell_type": "code",
   "execution_count": 13,
   "metadata": {
    "ExecuteTime": {
     "end_time": "2023-12-02T01:51:16.421514200Z",
     "start_time": "2023-12-02T01:51:16.203044600Z"
    }
   },
   "outputs": [],
   "source": [
    "def correlation_pearson_sparse_row(array, sparse_matrix):\n",
    "    \n",
    "    yy = array - array.mean() \n",
    "    xm = sparse_matrix.mean(axis=1).A.ravel() # pegando a média\n",
    "    ys = yy / np.sqrt(np.dot(yy, yy)) # calculando ys\n",
    "    xs = np.sqrt(np.add.reduceat(sparse_matrix.data**2, sparse_matrix.indptr[:-1]) - sparse_matrix.shape[1]*xm*xm)\n",
    "\n",
    "    correl2 = np.add.reduceat(sparse_matrix.data * ys[sparse_matrix.indices], sparse_matrix.indptr[:-1]) / xs\n",
    "    return correl2"
   ]
  },
  {
   "cell_type": "code",
   "execution_count": 14,
   "metadata": {
    "ExecuteTime": {
     "end_time": "2023-12-02T01:51:16.422514900Z",
     "start_time": "2023-12-02T01:51:16.216080600Z"
    }
   },
   "outputs": [
    {
     "name": "stdout",
     "output_type": "stream",
     "text": [
      "<class 'pandas.core.frame.DataFrame'>\n",
      "RangeIndex: 27278 entries, 0 to 27277\n",
      "Data columns (total 3 columns):\n",
      " #   Column   Non-Null Count  Dtype \n",
      "---  ------   --------------  ----- \n",
      " 0   movieId  27278 non-null  int64 \n",
      " 1   title    27278 non-null  object\n",
      " 2   genres   27278 non-null  object\n",
      "dtypes: int64(1), object(2)\n",
      "memory usage: 639.5+ KB\n"
     ]
    },
    {
     "data": {
      "text/plain": "   movieId                               title  \\\n0        1                    Toy Story (1995)   \n1        2                      Jumanji (1995)   \n2        3             Grumpier Old Men (1995)   \n3        4            Waiting to Exhale (1995)   \n4        5  Father of the Bride Part II (1995)   \n\n                                        genres  \n0  Adventure|Animation|Children|Comedy|Fantasy  \n1                   Adventure|Children|Fantasy  \n2                               Comedy|Romance  \n3                         Comedy|Drama|Romance  \n4                                       Comedy  ",
      "text/html": "<div>\n<style scoped>\n    .dataframe tbody tr th:only-of-type {\n        vertical-align: middle;\n    }\n\n    .dataframe tbody tr th {\n        vertical-align: top;\n    }\n\n    .dataframe thead th {\n        text-align: right;\n    }\n</style>\n<table border=\"1\" class=\"dataframe\">\n  <thead>\n    <tr style=\"text-align: right;\">\n      <th></th>\n      <th>movieId</th>\n      <th>title</th>\n      <th>genres</th>\n    </tr>\n  </thead>\n  <tbody>\n    <tr>\n      <th>0</th>\n      <td>1</td>\n      <td>Toy Story (1995)</td>\n      <td>Adventure|Animation|Children|Comedy|Fantasy</td>\n    </tr>\n    <tr>\n      <th>1</th>\n      <td>2</td>\n      <td>Jumanji (1995)</td>\n      <td>Adventure|Children|Fantasy</td>\n    </tr>\n    <tr>\n      <th>2</th>\n      <td>3</td>\n      <td>Grumpier Old Men (1995)</td>\n      <td>Comedy|Romance</td>\n    </tr>\n    <tr>\n      <th>3</th>\n      <td>4</td>\n      <td>Waiting to Exhale (1995)</td>\n      <td>Comedy|Drama|Romance</td>\n    </tr>\n    <tr>\n      <th>4</th>\n      <td>5</td>\n      <td>Father of the Bride Part II (1995)</td>\n      <td>Comedy</td>\n    </tr>\n  </tbody>\n</table>\n</div>"
     },
     "execution_count": 14,
     "metadata": {},
     "output_type": "execute_result"
    }
   ],
   "source": [
    "movies = pd.read_csv(\"../movie_information/movie.csv\")\n",
    "# 27278 movies with 16 duplicated movies title, but with differents IDs\n",
    "# i will maintain because they have differents movieIds\n",
    "\n",
    "movies.info()\n",
    "\n",
    "movies.head()"
   ]
  },
  {
   "cell_type": "code",
   "execution_count": 15,
   "metadata": {
    "ExecuteTime": {
     "end_time": "2023-12-02T01:51:16.685510100Z",
     "start_time": "2023-12-02T01:51:16.263216200Z"
    }
   },
   "outputs": [
    {
     "name": "stdout",
     "output_type": "stream",
     "text": [
      "<class 'pandas.core.frame.DataFrame'>\n",
      "RangeIndex: 465564 entries, 0 to 465563\n",
      "Data columns (total 2 columns):\n",
      " #   Column   Non-Null Count   Dtype \n",
      "---  ------   --------------   ----- \n",
      " 0   movieId  465564 non-null  int64 \n",
      " 1   tag      465548 non-null  object\n",
      "dtypes: int64(1), object(1)\n",
      "memory usage: 7.1+ MB\n"
     ]
    },
    {
     "data": {
      "text/plain": "   movieId            tag\n0     4141    Mark Waters\n1      208      dark hero\n2      353      dark hero\n3      521  noir thriller\n4      592      dark hero",
      "text/html": "<div>\n<style scoped>\n    .dataframe tbody tr th:only-of-type {\n        vertical-align: middle;\n    }\n\n    .dataframe tbody tr th {\n        vertical-align: top;\n    }\n\n    .dataframe thead th {\n        text-align: right;\n    }\n</style>\n<table border=\"1\" class=\"dataframe\">\n  <thead>\n    <tr style=\"text-align: right;\">\n      <th></th>\n      <th>movieId</th>\n      <th>tag</th>\n    </tr>\n  </thead>\n  <tbody>\n    <tr>\n      <th>0</th>\n      <td>4141</td>\n      <td>Mark Waters</td>\n    </tr>\n    <tr>\n      <th>1</th>\n      <td>208</td>\n      <td>dark hero</td>\n    </tr>\n    <tr>\n      <th>2</th>\n      <td>353</td>\n      <td>dark hero</td>\n    </tr>\n    <tr>\n      <th>3</th>\n      <td>521</td>\n      <td>noir thriller</td>\n    </tr>\n    <tr>\n      <th>4</th>\n      <td>592</td>\n      <td>dark hero</td>\n    </tr>\n  </tbody>\n</table>\n</div>"
     },
     "execution_count": 15,
     "metadata": {},
     "output_type": "execute_result"
    }
   ],
   "source": [
    "tags = pd.read_csv(\"../movie_information/tag.csv\").drop([\"timestamp\", \"userId\"], axis = 1) \n",
    "# 26744 movies\n",
    "\n",
    "tags.info()\n",
    "\n",
    "tags.head()"
   ]
  },
  {
   "cell_type": "code",
   "execution_count": 16,
   "metadata": {
    "ExecuteTime": {
     "end_time": "2023-12-02T01:51:28.236439200Z",
     "start_time": "2023-12-02T01:51:16.686511300Z"
    }
   },
   "outputs": [
    {
     "name": "stdout",
     "output_type": "stream",
     "text": [
      "<class 'pandas.core.frame.DataFrame'>\n",
      "RangeIndex: 20000263 entries, 0 to 20000262\n",
      "Data columns (total 3 columns):\n",
      " #   Column   Dtype  \n",
      "---  ------   -----  \n",
      " 0   userId   int64  \n",
      " 1   movieId  int64  \n",
      " 2   rating   float64\n",
      "dtypes: float64(1), int64(2)\n",
      "memory usage: 457.8 MB\n"
     ]
    },
    {
     "data": {
      "text/plain": "   userId  movieId  rating\n0       1        2     3.5\n1       1       29     3.5\n2       1       32     3.5\n3       1       47     3.5\n4       1       50     3.5",
      "text/html": "<div>\n<style scoped>\n    .dataframe tbody tr th:only-of-type {\n        vertical-align: middle;\n    }\n\n    .dataframe tbody tr th {\n        vertical-align: top;\n    }\n\n    .dataframe thead th {\n        text-align: right;\n    }\n</style>\n<table border=\"1\" class=\"dataframe\">\n  <thead>\n    <tr style=\"text-align: right;\">\n      <th></th>\n      <th>userId</th>\n      <th>movieId</th>\n      <th>rating</th>\n    </tr>\n  </thead>\n  <tbody>\n    <tr>\n      <th>0</th>\n      <td>1</td>\n      <td>2</td>\n      <td>3.5</td>\n    </tr>\n    <tr>\n      <th>1</th>\n      <td>1</td>\n      <td>29</td>\n      <td>3.5</td>\n    </tr>\n    <tr>\n      <th>2</th>\n      <td>1</td>\n      <td>32</td>\n      <td>3.5</td>\n    </tr>\n    <tr>\n      <th>3</th>\n      <td>1</td>\n      <td>47</td>\n      <td>3.5</td>\n    </tr>\n    <tr>\n      <th>4</th>\n      <td>1</td>\n      <td>50</td>\n      <td>3.5</td>\n    </tr>\n  </tbody>\n</table>\n</div>"
     },
     "execution_count": 16,
     "metadata": {},
     "output_type": "execute_result"
    }
   ],
   "source": [
    "ratings = pd.read_csv(\"../movie_information/rating.csv\").drop(\"timestamp\", axis = 1) #use later\n",
    "# 19545 movies\n",
    "\n",
    "ratings.info()\n",
    "\n",
    "ratings.head()"
   ]
  },
  {
   "cell_type": "code",
   "execution_count": 17,
   "metadata": {
    "ExecuteTime": {
     "end_time": "2023-12-02T01:51:29.235583300Z",
     "start_time": "2023-12-02T01:51:28.239443800Z"
    }
   },
   "outputs": [
    {
     "data": {
      "text/plain": "   movieId                                                tag\n0        1  Watched; Computeranimation; Disneyanimatedfeat...\n1        2  Timetravel; Adaptedfrom:book; Boardgame; Child...\n2        3  Oldpeoplethatisactuallyfunny; Sequelfever; Gru...\n3        4               Chickflick; Revenge; Characters; Clv\n4        5  Dianekeaton; Family; Sequel; Stevemartin; Wedd...",
      "text/html": "<div>\n<style scoped>\n    .dataframe tbody tr th:only-of-type {\n        vertical-align: middle;\n    }\n\n    .dataframe tbody tr th {\n        vertical-align: top;\n    }\n\n    .dataframe thead th {\n        text-align: right;\n    }\n</style>\n<table border=\"1\" class=\"dataframe\">\n  <thead>\n    <tr style=\"text-align: right;\">\n      <th></th>\n      <th>movieId</th>\n      <th>tag</th>\n    </tr>\n  </thead>\n  <tbody>\n    <tr>\n      <th>0</th>\n      <td>1</td>\n      <td>Watched; Computeranimation; Disneyanimatedfeat...</td>\n    </tr>\n    <tr>\n      <th>1</th>\n      <td>2</td>\n      <td>Timetravel; Adaptedfrom:book; Boardgame; Child...</td>\n    </tr>\n    <tr>\n      <th>2</th>\n      <td>3</td>\n      <td>Oldpeoplethatisactuallyfunny; Sequelfever; Gru...</td>\n    </tr>\n    <tr>\n      <th>3</th>\n      <td>4</td>\n      <td>Chickflick; Revenge; Characters; Clv</td>\n    </tr>\n    <tr>\n      <th>4</th>\n      <td>5</td>\n      <td>Dianekeaton; Family; Sequel; Stevemartin; Wedd...</td>\n    </tr>\n  </tbody>\n</table>\n</div>"
     },
     "execution_count": 17,
     "metadata": {},
     "output_type": "execute_result"
    }
   ],
   "source": [
    "# modifying tags\n",
    "\n",
    "formatted_tags = tags.copy()\n",
    "\n",
    "formatted_tags['tag'] = tags['tag'].astype(str).apply(lambda x: x.capitalize().strip().replace(\" \", \"\")) # formatting tags\n",
    "formatted_tags = formatted_tags.drop_duplicates()\n",
    "\n",
    "tags_grouped_by_id = formatted_tags.groupby(['movieId'], as_index=False).agg({'tag': '; '.join}) # to aggroup tags by movieId\n",
    "\n",
    "tags_grouped_by_id.head()"
   ]
  },
  {
   "cell_type": "code",
   "execution_count": 18,
   "metadata": {
    "ExecuteTime": {
     "end_time": "2023-12-02T01:51:29.369452600Z",
     "start_time": "2023-12-02T01:51:29.236581700Z"
    }
   },
   "outputs": [
    {
     "data": {
      "text/plain": "   movieId                               title  \\\n0        1                    Toy Story (1995)   \n1        2                      Jumanji (1995)   \n2        3             Grumpier Old Men (1995)   \n3        4            Waiting to Exhale (1995)   \n4        5  Father of the Bride Part II (1995)   \n\n                                            genres  \n0  Adventure; Animation; Children; Comedy; Fantasy  \n1                     Adventure; Children; Fantasy  \n2                                  Comedy; Romance  \n3                           Comedy; Drama; Romance  \n4                                           Comedy  ",
      "text/html": "<div>\n<style scoped>\n    .dataframe tbody tr th:only-of-type {\n        vertical-align: middle;\n    }\n\n    .dataframe tbody tr th {\n        vertical-align: top;\n    }\n\n    .dataframe thead th {\n        text-align: right;\n    }\n</style>\n<table border=\"1\" class=\"dataframe\">\n  <thead>\n    <tr style=\"text-align: right;\">\n      <th></th>\n      <th>movieId</th>\n      <th>title</th>\n      <th>genres</th>\n    </tr>\n  </thead>\n  <tbody>\n    <tr>\n      <th>0</th>\n      <td>1</td>\n      <td>Toy Story (1995)</td>\n      <td>Adventure; Animation; Children; Comedy; Fantasy</td>\n    </tr>\n    <tr>\n      <th>1</th>\n      <td>2</td>\n      <td>Jumanji (1995)</td>\n      <td>Adventure; Children; Fantasy</td>\n    </tr>\n    <tr>\n      <th>2</th>\n      <td>3</td>\n      <td>Grumpier Old Men (1995)</td>\n      <td>Comedy; Romance</td>\n    </tr>\n    <tr>\n      <th>3</th>\n      <td>4</td>\n      <td>Waiting to Exhale (1995)</td>\n      <td>Comedy; Drama; Romance</td>\n    </tr>\n    <tr>\n      <th>4</th>\n      <td>5</td>\n      <td>Father of the Bride Part II (1995)</td>\n      <td>Comedy</td>\n    </tr>\n  </tbody>\n</table>\n</div>"
     },
     "execution_count": 18,
     "metadata": {},
     "output_type": "execute_result"
    }
   ],
   "source": [
    "# formatting movies\n",
    "movies.loc[:, \"genres\"] = movies.loc[:, \"genres\"].str.replace(\"|\", \"; \", regex = False)\n",
    "movies.loc[:, \"genres\"].replace(\"(no genres listed)\", \"\" , inplace = True) # basically change no genres listed to NaN\n",
    "\n",
    "movies.head()"
   ]
  },
  {
   "cell_type": "code",
   "execution_count": 19,
   "metadata": {
    "ExecuteTime": {
     "end_time": "2023-12-02T01:51:29.485228Z",
     "start_time": "2023-12-02T01:51:29.312763900Z"
    }
   },
   "outputs": [
    {
     "data": {
      "text/plain": "   movieId                               title  \\\n0        1                    Toy Story (1995)   \n1        2                      Jumanji (1995)   \n2        3             Grumpier Old Men (1995)   \n3        4            Waiting to Exhale (1995)   \n4        5  Father of the Bride Part II (1995)   \n\n                                                tags  \n0  Adventure; Animation; Children; Comedy; Fantas...  \n1  Adventure; Children; Fantasy; Timetravel; Adap...  \n2  Comedy; Romance; Oldpeoplethatisactuallyfunny;...  \n3  Comedy; Drama; Romance; Chickflick; Revenge; C...  \n4  Comedy; Dianekeaton; Family; Sequel; Stevemart...  ",
      "text/html": "<div>\n<style scoped>\n    .dataframe tbody tr th:only-of-type {\n        vertical-align: middle;\n    }\n\n    .dataframe tbody tr th {\n        vertical-align: top;\n    }\n\n    .dataframe thead th {\n        text-align: right;\n    }\n</style>\n<table border=\"1\" class=\"dataframe\">\n  <thead>\n    <tr style=\"text-align: right;\">\n      <th></th>\n      <th>movieId</th>\n      <th>title</th>\n      <th>tags</th>\n    </tr>\n  </thead>\n  <tbody>\n    <tr>\n      <th>0</th>\n      <td>1</td>\n      <td>Toy Story (1995)</td>\n      <td>Adventure; Animation; Children; Comedy; Fantas...</td>\n    </tr>\n    <tr>\n      <th>1</th>\n      <td>2</td>\n      <td>Jumanji (1995)</td>\n      <td>Adventure; Children; Fantasy; Timetravel; Adap...</td>\n    </tr>\n    <tr>\n      <th>2</th>\n      <td>3</td>\n      <td>Grumpier Old Men (1995)</td>\n      <td>Comedy; Romance; Oldpeoplethatisactuallyfunny;...</td>\n    </tr>\n    <tr>\n      <th>3</th>\n      <td>4</td>\n      <td>Waiting to Exhale (1995)</td>\n      <td>Comedy; Drama; Romance; Chickflick; Revenge; C...</td>\n    </tr>\n    <tr>\n      <th>4</th>\n      <td>5</td>\n      <td>Father of the Bride Part II (1995)</td>\n      <td>Comedy; Dianekeaton; Family; Sequel; Stevemart...</td>\n    </tr>\n  </tbody>\n</table>\n</div>"
     },
     "execution_count": 19,
     "metadata": {},
     "output_type": "execute_result"
    }
   ],
   "source": [
    "df_merged = pd.merge(movies, tags_grouped_by_id, on = \"movieId\", how = \"outer\") # outer join with the two dataframes\n",
    "\n",
    "df_merged.loc[:, \"genres\"].replace(np.nan, \"\", inplace = True)\n",
    "df_merged.loc[:, \"tag\"].replace(np.nan, \"\", inplace = True)\n",
    "df_merged[\"tags\"] = df_merged[\"genres\"] + \"; \"+ df_merged[\"tag\"] # uning genres and tags in one columns tags\n",
    "df_merged.drop([\"genres\", \"tag\"], axis = 1, inplace = True)\n",
    "\n",
    "df_merged.head()"
   ]
  },
  {
   "cell_type": "code",
   "execution_count": 20,
   "metadata": {
    "ExecuteTime": {
     "end_time": "2023-12-02T01:51:29.561407900Z",
     "start_time": "2023-12-02T01:51:29.362909800Z"
    }
   },
   "outputs": [
    {
     "data": {
      "text/plain": "(209,)"
     },
     "execution_count": 20,
     "metadata": {},
     "output_type": "execute_result"
    }
   ],
   "source": [
    "without_tags = df_merged[df_merged[\"tags\"] == \"; \"][\"movieId\"] # save to remove later\n",
    "\n",
    "without_tags.shape"
   ]
  },
  {
   "cell_type": "code",
   "execution_count": 21,
   "metadata": {
    "ExecuteTime": {
     "end_time": "2023-12-02T01:51:29.596351300Z",
     "start_time": "2023-12-02T01:51:29.394989300Z"
    }
   },
   "outputs": [
    {
     "name": "stdout",
     "output_type": "stream",
     "text": [
      "tags:  (19545, 2)  \n",
      "movies: (27278, 3)  \n",
      "df_merged: (27278, 3)\n"
     ]
    }
   ],
   "source": [
    "print(\"tags: \",tags_grouped_by_id.shape, \" \\nmovies:\", movies.shape, \" \\ndf_merged:\", df_merged.shape)"
   ]
  },
  {
   "cell_type": "code",
   "execution_count": 22,
   "metadata": {
    "ExecuteTime": {
     "end_time": "2023-12-02T01:51:29.867169200Z",
     "start_time": "2023-12-02T01:51:29.412548Z"
    }
   },
   "outputs": [
    {
     "data": {
      "text/plain": "<27278x34957 sparse matrix of type '<class 'numpy.int32'>'\n\twith 265140 stored elements in Compressed Sparse Row format>"
     },
     "execution_count": 22,
     "metadata": {},
     "output_type": "execute_result"
    }
   ],
   "source": [
    "vectorizer_tags = CountVectorizer()\n",
    "\n",
    "tags_vectorized = vectorizer_tags.fit_transform(df_merged.loc[:, \"tags\"])\n",
    "tags_names = vectorizer_tags.get_feature_names_out()\n",
    "\n",
    "tags_vectorized.data = np.where(tags_vectorized.data != 0, 1, 0)\n",
    "tags_vectorized\n",
    "\n",
    "#talvez mudar dps de int32 para int8"
   ]
  },
  {
   "cell_type": "code",
   "execution_count": 23,
   "metadata": {
    "ExecuteTime": {
     "end_time": "2023-12-02T01:51:30.114391100Z",
     "start_time": "2023-12-02T01:51:29.866162700Z"
    }
   },
   "outputs": [
    {
     "data": {
      "text/plain": "(27278, 2935)"
     },
     "execution_count": 23,
     "metadata": {},
     "output_type": "execute_result"
    }
   ],
   "source": [
    "tags_counts = np.array(tags_vectorized.sum(axis=0))[0]\n",
    "filter_ = (tags_counts > 10)\n",
    "\n",
    "names_filtered = tags_names[filter_] # 35k para 3k columns\n",
    "\n",
    "tags_vectorized = pd.DataFrame((tags_vectorized[:, filter_].toarray()), columns = names_filtered)\n",
    "tags_vectorized.drop([\"tag\", \"watched\"], axis = 1, inplace = True)\n",
    "\n",
    "tags_vectorized.shape"
   ]
  },
  {
   "cell_type": "code",
   "execution_count": 24,
   "metadata": {
    "ExecuteTime": {
     "end_time": "2023-12-02T01:51:30.167595600Z",
     "start_time": "2023-12-02T01:51:30.116398Z"
    }
   },
   "outputs": [
    {
     "data": {
      "text/plain": "   007  01  02  03  04  05  06  07  08  09  ...  yakuza  yasujirôozu  youth  \\\n0    0   0   0   0   0   0   0   0   0   0  ...       0            0      0   \n1    0   0   0   0   0   0   0   0   0   0  ...       0            0      0   \n2    0   0   0   0   0   0   0   0   0   0  ...       0            0      0   \n3    0   0   0   0   0   0   0   0   0   0  ...       0            0      0   \n4    0   0   0   0   0   0   0   0   0   0  ...       0            0      0   \n\n   youtube  zachgalifianakis  zatoichi  zhangyimou  zombie  zombies  \\\n0        0                 0         0           0       0        0   \n1        0                 0         0           0       0        0   \n2        0                 0         0           0       0        0   \n3        0                 0         0           0       0        0   \n4        0                 0         0           0       0        0   \n\n   zooeydeschanel  \n0               0  \n1               0  \n2               0  \n3               0  \n4               0  \n\n[5 rows x 2935 columns]",
      "text/html": "<div>\n<style scoped>\n    .dataframe tbody tr th:only-of-type {\n        vertical-align: middle;\n    }\n\n    .dataframe tbody tr th {\n        vertical-align: top;\n    }\n\n    .dataframe thead th {\n        text-align: right;\n    }\n</style>\n<table border=\"1\" class=\"dataframe\">\n  <thead>\n    <tr style=\"text-align: right;\">\n      <th></th>\n      <th>007</th>\n      <th>01</th>\n      <th>02</th>\n      <th>03</th>\n      <th>04</th>\n      <th>05</th>\n      <th>06</th>\n      <th>07</th>\n      <th>08</th>\n      <th>09</th>\n      <th>...</th>\n      <th>yakuza</th>\n      <th>yasujirôozu</th>\n      <th>youth</th>\n      <th>youtube</th>\n      <th>zachgalifianakis</th>\n      <th>zatoichi</th>\n      <th>zhangyimou</th>\n      <th>zombie</th>\n      <th>zombies</th>\n      <th>zooeydeschanel</th>\n    </tr>\n  </thead>\n  <tbody>\n    <tr>\n      <th>0</th>\n      <td>0</td>\n      <td>0</td>\n      <td>0</td>\n      <td>0</td>\n      <td>0</td>\n      <td>0</td>\n      <td>0</td>\n      <td>0</td>\n      <td>0</td>\n      <td>0</td>\n      <td>...</td>\n      <td>0</td>\n      <td>0</td>\n      <td>0</td>\n      <td>0</td>\n      <td>0</td>\n      <td>0</td>\n      <td>0</td>\n      <td>0</td>\n      <td>0</td>\n      <td>0</td>\n    </tr>\n    <tr>\n      <th>1</th>\n      <td>0</td>\n      <td>0</td>\n      <td>0</td>\n      <td>0</td>\n      <td>0</td>\n      <td>0</td>\n      <td>0</td>\n      <td>0</td>\n      <td>0</td>\n      <td>0</td>\n      <td>...</td>\n      <td>0</td>\n      <td>0</td>\n      <td>0</td>\n      <td>0</td>\n      <td>0</td>\n      <td>0</td>\n      <td>0</td>\n      <td>0</td>\n      <td>0</td>\n      <td>0</td>\n    </tr>\n    <tr>\n      <th>2</th>\n      <td>0</td>\n      <td>0</td>\n      <td>0</td>\n      <td>0</td>\n      <td>0</td>\n      <td>0</td>\n      <td>0</td>\n      <td>0</td>\n      <td>0</td>\n      <td>0</td>\n      <td>...</td>\n      <td>0</td>\n      <td>0</td>\n      <td>0</td>\n      <td>0</td>\n      <td>0</td>\n      <td>0</td>\n      <td>0</td>\n      <td>0</td>\n      <td>0</td>\n      <td>0</td>\n    </tr>\n    <tr>\n      <th>3</th>\n      <td>0</td>\n      <td>0</td>\n      <td>0</td>\n      <td>0</td>\n      <td>0</td>\n      <td>0</td>\n      <td>0</td>\n      <td>0</td>\n      <td>0</td>\n      <td>0</td>\n      <td>...</td>\n      <td>0</td>\n      <td>0</td>\n      <td>0</td>\n      <td>0</td>\n      <td>0</td>\n      <td>0</td>\n      <td>0</td>\n      <td>0</td>\n      <td>0</td>\n      <td>0</td>\n    </tr>\n    <tr>\n      <th>4</th>\n      <td>0</td>\n      <td>0</td>\n      <td>0</td>\n      <td>0</td>\n      <td>0</td>\n      <td>0</td>\n      <td>0</td>\n      <td>0</td>\n      <td>0</td>\n      <td>0</td>\n      <td>...</td>\n      <td>0</td>\n      <td>0</td>\n      <td>0</td>\n      <td>0</td>\n      <td>0</td>\n      <td>0</td>\n      <td>0</td>\n      <td>0</td>\n      <td>0</td>\n      <td>0</td>\n    </tr>\n  </tbody>\n</table>\n<p>5 rows × 2935 columns</p>\n</div>"
     },
     "execution_count": 24,
     "metadata": {},
     "output_type": "execute_result"
    }
   ],
   "source": [
    "tags_vectorized.head()"
   ]
  },
  {
   "cell_type": "code",
   "execution_count": 25,
   "metadata": {
    "ExecuteTime": {
     "end_time": "2023-12-02T01:51:31.191454700Z",
     "start_time": "2023-12-02T01:51:30.149523600Z"
    }
   },
   "outputs": [
    {
     "data": {
      "text/plain": "   movieId  007  01  02  03  04  05  06  07  08  ...  yakuza  yasujirôozu  \\\n0        1    0   0   0   0   0   0   0   0   0  ...       0            0   \n1        2    0   0   0   0   0   0   0   0   0  ...       0            0   \n2        3    0   0   0   0   0   0   0   0   0  ...       0            0   \n3        4    0   0   0   0   0   0   0   0   0  ...       0            0   \n4        5    0   0   0   0   0   0   0   0   0  ...       0            0   \n\n   youth  youtube  zachgalifianakis  zatoichi  zhangyimou  zombie  zombies  \\\n0      0        0                 0         0           0       0        0   \n1      0        0                 0         0           0       0        0   \n2      0        0                 0         0           0       0        0   \n3      0        0                 0         0           0       0        0   \n4      0        0                 0         0           0       0        0   \n\n   zooeydeschanel  \n0               0  \n1               0  \n2               0  \n3               0  \n4               0  \n\n[5 rows x 2936 columns]",
      "text/html": "<div>\n<style scoped>\n    .dataframe tbody tr th:only-of-type {\n        vertical-align: middle;\n    }\n\n    .dataframe tbody tr th {\n        vertical-align: top;\n    }\n\n    .dataframe thead th {\n        text-align: right;\n    }\n</style>\n<table border=\"1\" class=\"dataframe\">\n  <thead>\n    <tr style=\"text-align: right;\">\n      <th></th>\n      <th>movieId</th>\n      <th>007</th>\n      <th>01</th>\n      <th>02</th>\n      <th>03</th>\n      <th>04</th>\n      <th>05</th>\n      <th>06</th>\n      <th>07</th>\n      <th>08</th>\n      <th>...</th>\n      <th>yakuza</th>\n      <th>yasujirôozu</th>\n      <th>youth</th>\n      <th>youtube</th>\n      <th>zachgalifianakis</th>\n      <th>zatoichi</th>\n      <th>zhangyimou</th>\n      <th>zombie</th>\n      <th>zombies</th>\n      <th>zooeydeschanel</th>\n    </tr>\n  </thead>\n  <tbody>\n    <tr>\n      <th>0</th>\n      <td>1</td>\n      <td>0</td>\n      <td>0</td>\n      <td>0</td>\n      <td>0</td>\n      <td>0</td>\n      <td>0</td>\n      <td>0</td>\n      <td>0</td>\n      <td>0</td>\n      <td>...</td>\n      <td>0</td>\n      <td>0</td>\n      <td>0</td>\n      <td>0</td>\n      <td>0</td>\n      <td>0</td>\n      <td>0</td>\n      <td>0</td>\n      <td>0</td>\n      <td>0</td>\n    </tr>\n    <tr>\n      <th>1</th>\n      <td>2</td>\n      <td>0</td>\n      <td>0</td>\n      <td>0</td>\n      <td>0</td>\n      <td>0</td>\n      <td>0</td>\n      <td>0</td>\n      <td>0</td>\n      <td>0</td>\n      <td>...</td>\n      <td>0</td>\n      <td>0</td>\n      <td>0</td>\n      <td>0</td>\n      <td>0</td>\n      <td>0</td>\n      <td>0</td>\n      <td>0</td>\n      <td>0</td>\n      <td>0</td>\n    </tr>\n    <tr>\n      <th>2</th>\n      <td>3</td>\n      <td>0</td>\n      <td>0</td>\n      <td>0</td>\n      <td>0</td>\n      <td>0</td>\n      <td>0</td>\n      <td>0</td>\n      <td>0</td>\n      <td>0</td>\n      <td>...</td>\n      <td>0</td>\n      <td>0</td>\n      <td>0</td>\n      <td>0</td>\n      <td>0</td>\n      <td>0</td>\n      <td>0</td>\n      <td>0</td>\n      <td>0</td>\n      <td>0</td>\n    </tr>\n    <tr>\n      <th>3</th>\n      <td>4</td>\n      <td>0</td>\n      <td>0</td>\n      <td>0</td>\n      <td>0</td>\n      <td>0</td>\n      <td>0</td>\n      <td>0</td>\n      <td>0</td>\n      <td>0</td>\n      <td>...</td>\n      <td>0</td>\n      <td>0</td>\n      <td>0</td>\n      <td>0</td>\n      <td>0</td>\n      <td>0</td>\n      <td>0</td>\n      <td>0</td>\n      <td>0</td>\n      <td>0</td>\n    </tr>\n    <tr>\n      <th>4</th>\n      <td>5</td>\n      <td>0</td>\n      <td>0</td>\n      <td>0</td>\n      <td>0</td>\n      <td>0</td>\n      <td>0</td>\n      <td>0</td>\n      <td>0</td>\n      <td>0</td>\n      <td>...</td>\n      <td>0</td>\n      <td>0</td>\n      <td>0</td>\n      <td>0</td>\n      <td>0</td>\n      <td>0</td>\n      <td>0</td>\n      <td>0</td>\n      <td>0</td>\n      <td>0</td>\n    </tr>\n  </tbody>\n</table>\n<p>5 rows × 2936 columns</p>\n</div>"
     },
     "execution_count": 25,
     "metadata": {},
     "output_type": "execute_result"
    }
   ],
   "source": [
    "tags_final = pd.concat([df_merged[\"movieId\"], tags_vectorized], axis = 1)\n",
    "\n",
    "tags_final.drop(tags_final[tags_final[\"movieId\"].isin(without_tags)].index, inplace = True) # removing movies without any tag\n",
    "\n",
    "tags_final.head() # aqui ta ok"
   ]
  },
  {
   "cell_type": "code",
   "execution_count": 25,
   "metadata": {
    "ExecuteTime": {
     "end_time": "2023-12-02T01:51:31.224531400Z",
     "start_time": "2023-12-02T01:51:31.193454Z"
    }
   },
   "outputs": [],
   "source": []
  },
  {
   "cell_type": "code",
   "execution_count": 26,
   "metadata": {
    "ExecuteTime": {
     "end_time": "2023-12-02T01:51:31.291013400Z",
     "start_time": "2023-12-02T01:51:31.209505300Z"
    }
   },
   "outputs": [
    {
     "data": {
      "text/plain": "'\\nnew_ratings = pd.merge(movies.drop(\"genres\", axis = 1), ratings, on = \"movieId\")\\n\\nnew_ratings.head()\\n\\nuser_ids = new_ratings[\\'userId\\'].unique()\\ntitle_ids = new_ratings[\\'title\\'].unique()\\n\\nuser_to_row = {user_id: i for i, user_id in enumerate(new_ratings[\\'userId\\'].unique())} # dict used to userNames\\ntitle_to_col = {title: j for j, title in enumerate(new_ratings[\\'title\\'].unique())} # dict used to itemNames\\n\\nrows = [user_to_row[user_id] for user_id in new_ratings[\\'userId\\']]\\ncols = [title_to_col[title] for title in new_ratings[\\'title\\']]\\nratings_values = new_ratings[\\'rating\\'].tolist()\\n\\nsparse_matrix = csr_matrix((ratings_values, (rows, cols)), shape=(len(user_ids), len(title_ids)))\\nmovie_names = pd.Series(list(title_to_col.keys()))\\nuser_names = pd.Series(list(user_to_row.keys()))\\npivot_csr = sparse_matrix\\npivot_csc = sparse_matrix.tocsc()\\n\\nprint(sparse_matrix.shape)\\n'"
     },
     "execution_count": 26,
     "metadata": {},
     "output_type": "execute_result"
    }
   ],
   "source": [
    "# Code to create the pivot table in a efficient way in csr matrix\n",
    "\"\"\"\n",
    "new_ratings = pd.merge(movies.drop(\"genres\", axis = 1), ratings, on = \"movieId\")\n",
    "\n",
    "new_ratings.head()\n",
    "\n",
    "user_ids = new_ratings['userId'].unique()\n",
    "title_ids = new_ratings['title'].unique()\n",
    "\n",
    "user_to_row = {user_id: i for i, user_id in enumerate(new_ratings['userId'].unique())} # dict used to userNames\n",
    "title_to_col = {title: j for j, title in enumerate(new_ratings['title'].unique())} # dict used to itemNames\n",
    "\n",
    "rows = [user_to_row[user_id] for user_id in new_ratings['userId']]\n",
    "cols = [title_to_col[title] for title in new_ratings['title']]\n",
    "ratings_values = new_ratings['rating'].tolist()\n",
    "\n",
    "sparse_matrix = csr_matrix((ratings_values, (rows, cols)), shape=(len(user_ids), len(title_ids)))\n",
    "movie_names = pd.Series(list(title_to_col.keys()))\n",
    "user_names = pd.Series(list(user_to_row.keys()))\n",
    "pivot_csr = sparse_matrix\n",
    "pivot_csc = sparse_matrix.tocsc()\n",
    "\n",
    "print(sparse_matrix.shape)\n",
    "\"\"\""
   ]
  },
  {
   "cell_type": "code",
   "execution_count": 27,
   "metadata": {
    "ExecuteTime": {
     "end_time": "2023-12-02T01:51:31.316582Z",
     "start_time": "2023-12-02T01:51:31.222024Z"
    }
   },
   "outputs": [
    {
     "data": {
      "text/plain": "'\\nmovies_Ids = movies_final[\"movieId\"]\\nmovie_names = movies_final[\"title\"]\\n\\nmovies_final_array = movies_final.drop([\"movieId\", \"title\"], axis = 1)\\n\\nmovies_final = np.array(movies_final_array)\\nmovies_csr = csr_matrix(movies_final_array)\\n# Falta retirar o título, botar o movieId para o index e depois colocar para sparseMatrix\\n'"
     },
     "execution_count": 27,
     "metadata": {},
     "output_type": "execute_result"
    }
   ],
   "source": [
    "\"\"\"\n",
    "movies_Ids = movies_final[\"movieId\"]\n",
    "movie_names = movies_final[\"title\"]\n",
    "\n",
    "movies_final_array = movies_final.drop([\"movieId\", \"title\"], axis = 1)\n",
    "\n",
    "movies_final = np.array(movies_final_array)\n",
    "movies_csr = csr_matrix(movies_final_array)\n",
    "# Falta retirar o título, botar o movieId para o index e depois colocar para sparseMatrix\n",
    "\"\"\""
   ]
  },
  {
   "cell_type": "code",
   "execution_count": 28,
   "metadata": {
    "ExecuteTime": {
     "end_time": "2023-12-02T01:51:32.519055700Z",
     "start_time": "2023-12-02T01:51:31.239052800Z"
    }
   },
   "outputs": [
    {
     "name": "stdout",
     "output_type": "stream",
     "text": [
      "names:  (27069,)   ids:  (27069,)\n"
     ]
    }
   ],
   "source": [
    "movie_ids = tags_final[\"movieId\"]\n",
    "movie_names = pd.merge(movies[[\"movieId\", \"title\"]], tags_final[\"movieId\"], on = \"movieId\")[\"title\"]\n",
    "\n",
    "print(\"names: \",movie_names.shape,\"  ids: \", movie_ids.shape)\n",
    "\n",
    "tags_array = np.array(tags_final.drop(\"movieId\", axis = 1))\n",
    "tags_csr = csr_matrix(tags_final.drop(\"movieId\", axis = 1))"
   ]
  },
  {
   "cell_type": "code",
   "execution_count": 29,
   "metadata": {
    "ExecuteTime": {
     "end_time": "2023-12-02T01:51:32.534293100Z",
     "start_time": "2023-12-02T01:51:32.523059400Z"
    }
   },
   "outputs": [],
   "source": [
    "def get_recommendation_item(movie_name, metric):\n",
    "    if (movie_name is None) or (movie_names.str.match(movie_name).any()):\n",
    "        print(\"Movie not found.\")\n",
    "        return None\n",
    "    \n",
    "    movie = tags_array[pd.Index(movie_names).get_loc(movie_name), :]\n",
    "    print(pd.Index(movie_names).get_loc(movie_name))\n",
    "\n",
    "    if metric == \"cosine\":\n",
    "        similarity = cosine_similarity(movie.reshape(1, -1), tags_csr)[0]\n",
    "    elif metric == \"pearson\":\n",
    "        similarity = correlation_pearson_sparse_row(movie, tags_csr) \n",
    "    elif metric == \"kernel\":\n",
    "        similarity = linear_kernel(movie.reshape(1, -1), tags_csr)[0]\n",
    "    else: \n",
    "        print(\"Unknown Metric.\")\n",
    "        return None\n",
    "    \n",
    "    order = np.argsort(-similarity)\n",
    "\n",
    "    top_10 = similarity[order[1:11]]\n",
    "    top_10_names = movie_names[order[1:11]]\n",
    "    \n",
    "    return (list(top_10_names), top_10)"
   ]
  },
  {
   "cell_type": "code",
   "execution_count": 30,
   "outputs": [
    {
     "name": "stdout",
     "output_type": "stream",
     "text": [
      "1511\n"
     ]
    },
    {
     "data": {
      "text/plain": "(['Batman Forever (1995)',\n  'Batman (1989)',\n  'Batman (1966)',\n  'Superman III (1983)',\n  'Batman Returns (1992)',\n  'Batman Begins (2005)',\n  'Dark Knight, The (2008)',\n  'Superman IV: The Quest for Peace (1987)',\n  'Superman (1978)',\n  'Catwoman (2004)'],\n array([20., 18., 17., 17., 17., 17., 16., 15., 15., 14.]))"
     },
     "execution_count": 30,
     "metadata": {},
     "output_type": "execute_result"
    }
   ],
   "source": [
    "get_recommendation_item(\"Batman & Robin (1997)\", \"kernel\")"
   ],
   "metadata": {
    "collapsed": false,
    "ExecuteTime": {
     "end_time": "2023-12-02T01:51:32.568362700Z",
     "start_time": "2023-12-02T01:51:32.535363Z"
    }
   }
  },
  {
   "cell_type": "code",
   "execution_count": 31,
   "metadata": {
    "ExecuteTime": {
     "end_time": "2023-12-02T01:51:32.654834400Z",
     "start_time": "2023-12-02T01:51:32.579438800Z"
    }
   },
   "outputs": [
    {
     "name": "stdout",
     "output_type": "stream",
     "text": [
      "1511\n"
     ]
    },
    {
     "data": {
      "text/plain": "(['Batman (1966)',\n  'Superman III (1983)',\n  'Batman Forever (1995)',\n  'Batman Returns (1992)',\n  'Batman: Mask of the Phantasm (1993)',\n  'Superman IV: The Quest for Peace (1987)',\n  'Batman: Gotham Knight (2008)',\n  'Batman Beyond: Return of the Joker (2000)',\n  'Supergirl (1984)',\n  'Batman (1989)'],\n array([0.52463139, 0.47892074, 0.47619048, 0.43719282, 0.41826814,\n        0.40915854, 0.37219368, 0.37115374, 0.36004115, 0.34718254]))"
     },
     "execution_count": 31,
     "metadata": {},
     "output_type": "execute_result"
    }
   ],
   "source": [
    "get_recommendation_item(\"Batman & Robin (1997)\", \"cosine\")"
   ]
  },
  {
   "cell_type": "code",
   "execution_count": 32,
   "metadata": {
    "ExecuteTime": {
     "end_time": "2023-12-02T01:51:32.736956900Z",
     "start_time": "2023-12-02T01:51:32.598356Z"
    }
   },
   "outputs": [
    {
     "name": "stdout",
     "output_type": "stream",
     "text": [
      "1511\n"
     ]
    },
    {
     "data": {
      "text/plain": "(['Batman (1966)',\n  'Superman III (1983)',\n  'Batman Forever (1995)',\n  'Batman Returns (1992)',\n  'Batman: Mask of the Phantasm (1993)',\n  'Superman IV: The Quest for Peace (1987)',\n  'Batman: Gotham Knight (2008)',\n  'Batman Beyond: Return of the Joker (2000)',\n  'Supergirl (1984)',\n  'Batman (1989)'],\n array([0.51952297, 0.47262464, 0.46858591, 0.42965372, 0.41224561,\n        0.40173273, 0.36819993, 0.36639143, 0.3565201 , 0.33558011]))"
     },
     "execution_count": 32,
     "metadata": {},
     "output_type": "execute_result"
    }
   ],
   "source": [
    "get_recommendation_item(\"Batman & Robin (1997)\", \"pearson\")"
   ]
  },
  {
   "cell_type": "markdown",
   "metadata": {},
   "source": [
    "#### Alguns problemas:\n",
    "    -> Preciso saber como fazer de User para isso\n",
    "    -> Pensar na forma de generalizar o código (criar classe)\n",
    "    -> Pensar em como otimizar também (o tipo de matriz(csr ou csc) o pré-processamento e tal)"
   ]
  }
 ],
 "metadata": {
  "kernelspec": {
   "display_name": "Python 3 (ipykernel)",
   "language": "python",
   "name": "python3"
  },
  "language_info": {
   "codemirror_mode": {
    "name": "ipython",
    "version": 3
   },
   "file_extension": ".py",
   "mimetype": "text/x-python",
   "name": "python",
   "nbconvert_exporter": "python",
   "pygments_lexer": "ipython3",
   "version": "3.10.7"
  }
 },
 "nbformat": 4,
 "nbformat_minor": 2
}
